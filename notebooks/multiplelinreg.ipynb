{
 "cells": [
  {
   "cell_type": "code",
   "execution_count": null,
   "id": "1573cb57",
   "metadata": {},
   "outputs": [],
   "source": [
    "import numpy as np\n",
    "import pandas as pd\n",
    "import matplotlib.pyplot as plt\n",
    "import seaborn as sns"
   ]
  },
  {
   "cell_type": "code",
   "execution_count": null,
   "id": "4fbfac73",
   "metadata": {},
   "outputs": [],
   "source": [
    "data = pd.read_csv(\"../data/2_students.csv\")\n",
    "data.head()"
   ]
  },
  {
   "cell_type": "markdown",
   "id": "2679243d",
   "metadata": {},
   "source": [
    "Changing string values of 'Extracurricular Activities' column into binary\n"
   ]
  },
  {
   "cell_type": "code",
   "execution_count": null,
   "id": "68a1cbd9",
   "metadata": {},
   "outputs": [],
   "source": [
    "data.loc[data[\"Extracurricular Activities\"] == \"Yes\", \"Extracurricular Activities\"] = 1\n",
    "data.loc[data[\"Extracurricular Activities\"] == \"No\", \"Extracurricular Activities\"] = 0"
   ]
  },
  {
   "cell_type": "code",
   "execution_count": null,
   "id": "f975163e",
   "metadata": {},
   "outputs": [],
   "source": [
    "def zscore(data: pd.Series):\n",
    "    \"\"\"\n",
    "    For Normalisation\n",
    "    \"\"\"\n",
    "    mean = data.mean()\n",
    "    n = data.size\n",
    "    sigma = (np.sum((data - mean) ** 2) / (n - 1)) ** (0.5)\n",
    "    data = (data - mean) / sigma\n",
    "    return data"
   ]
  },
  {
   "cell_type": "markdown",
   "id": "4e147723",
   "metadata": {},
   "source": [
    "Z Score Normalisation\n"
   ]
  },
  {
   "cell_type": "code",
   "execution_count": null,
   "id": "9c26dd81",
   "metadata": {},
   "outputs": [],
   "source": [
    "data = data.apply(\n",
    "    lambda col: (\n",
    "        zscore(col)\n",
    "        if col.name not in [\"Extracurricular Activities\", \"Performance Index\"]\n",
    "        else col\n",
    "    )\n",
    ")\n",
    "# No Normalisation on binary columns\n",
    "data.head()"
   ]
  },
  {
   "cell_type": "markdown",
   "id": "f12c9cb1",
   "metadata": {},
   "source": [
    "Implementation\n"
   ]
  },
  {
   "cell_type": "code",
   "execution_count": null,
   "id": "ee9ea0fd",
   "metadata": {},
   "outputs": [],
   "source": [
    "def cost_func(wv: pd.Series, xv: pd.DataFrame, b: float, y_actR: float):\n",
    "    \"\"\"\n",
    "    wv=[], size=5\n",
    "\n",
    "    xv=[\n",
    "    [],\n",
    "    [],\n",
    "    []\n",
    "    ], size=10k\n",
    "    \"\"\"\n",
    "    m = np.size(xv)\n",
    "    y_predR = xv.dot(wv) + b\n",
    "    return np.sum(((y_predR - y_actR) ** 2)) / (2 * m)"
   ]
  },
  {
   "cell_type": "code",
   "execution_count": null,
   "id": "b0bae321",
   "metadata": {},
   "outputs": [],
   "source": [
    "def gradients(wv: pd.Series, data: pd.DataFrame, b: float, yv_act: pd.Series):\n",
    "    \"\"\"\n",
    "    Returns\n",
    "\n",
    "    df_dw: pd.Series,\n",
    "    df_db: float\n",
    "    \"\"\"\n",
    "    xv = data.drop(columns=[\"Performance Index\"])\n",
    "    m = xv.index.size\n",
    "    yv_pred = xv.dot(wv) + b\n",
    "    df_dw = pd.Series(\n",
    "        np.dot(xv.T, (yv_pred - yv_act)) / m,\n",
    "        index=data.columns.drop([\"Performance Index\"]),\n",
    "    )\n",
    "    df_db = (np.sum((yv_pred - yv_act))) / m  # float\n",
    "    return (df_dw, df_db)"
   ]
  },
  {
   "cell_type": "code",
   "execution_count": null,
   "id": "e58981a3",
   "metadata": {},
   "outputs": [],
   "source": [
    "def descent(\n",
    "    data: pd.DataFrame,\n",
    "    yv_act: pd.Series,\n",
    "    wv_init: pd.Series,\n",
    "    b_init: float,\n",
    "    alpha: float,\n",
    "):\n",
    "    \"\"\"\n",
    "    The main func\n",
    "    \"\"\"\n",
    "    xv = data.drop(columns=[\"Performance Index\"])\n",
    "    max_iterations = 10000\n",
    "    history = pd.DataFrame(\n",
    "        columns=[\"wv\", \"b\", \"cost_func\", \"wv_grad\", \"b_grad\"],\n",
    "        index=np.arange(0, max_iterations),\n",
    "    )\n",
    "    grad = gradients(wv_init, data, b_init, yv_act)\n",
    "\n",
    "    df_dw = grad[0]\n",
    "    df_db = grad[1]\n",
    "    wv = wv_init - (alpha * df_dw)\n",
    "    b = b_init - (alpha * df_db)\n",
    "    tolerance = 1e-6\n",
    "    iterations = 0\n",
    "    while (\n",
    "        abs(df_db) > tolerance or np.linalg.norm(df_dw) > tolerance\n",
    "    ) and iterations < max_iterations:\n",
    "        grad = gradients(wv, data, b, yv_act)\n",
    "        df_dw = grad[0]\n",
    "        df_db = grad[1]\n",
    "        wv = wv - (alpha * df_dw)\n",
    "        b = b - (alpha * df_db)\n",
    "        history.loc[iterations] = [\n",
    "            wv.to_list(),\n",
    "            b,\n",
    "            cost_func(wv, xv, b, yv_act),\n",
    "            df_dw.to_list(),\n",
    "            df_db,\n",
    "        ]\n",
    "        iterations += 1\n",
    "        if iterations % 1000 == 0:\n",
    "            print(f\"\\r{iterations}/10000 Done!\")\n",
    "\n",
    "    history.dropna(inplace=True)\n",
    "    # history.to_csv(\"./history2.csv\") Not really required\n",
    "    return history"
   ]
  },
  {
   "cell_type": "markdown",
   "id": "9963917f",
   "metadata": {},
   "source": [
    "Running the algorithm\n",
    "(Taking 2 different alphas for the Learning Curve)"
   ]
  },
  {
   "cell_type": "code",
   "execution_count": null,
   "id": "bb4477aa",
   "metadata": {},
   "outputs": [],
   "source": [
    "yv_act = data[\"Performance Index\"]\n",
    "wv_init = pd.Series([0, 0, 0, 0, 0], index=data.columns.drop(\"Performance Index\"))\n",
    "b_init = 0\n",
    "alpha_1 = 0.03\n",
    "alpha_2 = 0.001\n",
    "newdata = descent(data, yv_act, wv_init, b_init, alpha_1)"
   ]
  },
  {
   "cell_type": "code",
   "execution_count": null,
   "id": "391f355b",
   "metadata": {},
   "outputs": [],
   "source": [
    "newdata2 = descent(data, yv_act, wv_init, b_init, alpha_2)"
   ]
  },
  {
   "cell_type": "markdown",
   "id": "2e554d4c",
   "metadata": {},
   "source": [
    "Learning Curve for 2 different Alphas"
   ]
  },
  {
   "cell_type": "code",
   "execution_count": null,
   "id": "3d470602",
   "metadata": {},
   "outputs": [],
   "source": [
    "fig = plt.figure(figsize=(16, 6))\n",
    "sns.lineplot(\n",
    "    data=newdata,\n",
    "    x=newdata.index.set_names(\"Iterations\"),\n",
    "    y=newdata[\"cost_func\"],\n",
    "    color=\"red\",\n",
    "    label=\"Alpha: 0.03\",\n",
    ")\n",
    "sns.lineplot(\n",
    "    data=newdata2,\n",
    "    x=newdata2.index.set_names(\"Iterations\"),\n",
    "    y=newdata2[\"cost_func\"],\n",
    "    color=\"blue\",\n",
    "    label=\"Alpha: 0.001\",\n",
    ")"
   ]
  }
 ],
 "metadata": {
  "language_info": {
   "name": "python"
  }
 },
 "nbformat": 4,
 "nbformat_minor": 5
}
